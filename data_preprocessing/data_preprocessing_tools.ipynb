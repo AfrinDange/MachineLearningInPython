{
  "nbformat": 4,
  "nbformat_minor": 0,
  "metadata": {
    "colab": {
      "name": "data_preprocessing_tools.ipynb",
      "provenance": [],
      "collapsed_sections": [],
      "include_colab_link": true
    },
    "kernelspec": {
      "name": "python3",
      "display_name": "Python 3"
    }
  },
  "cells": [
    {
      "cell_type": "markdown",
      "metadata": {
        "id": "view-in-github",
        "colab_type": "text"
      },
      "source": [
        "<a href=\"https://colab.research.google.com/github/AfrinDange/MachineLearningInPython/blob/main/data_preprocessing/data_preprocessing_tools.ipynb\" target=\"_parent\"><img src=\"https://colab.research.google.com/assets/colab-badge.svg\" alt=\"Open In Colab\"/></a>"
      ]
    },
    {
      "cell_type": "markdown",
      "metadata": {
        "id": "37puETfgRzzg"
      },
      "source": [
        "# Data Preprocessing Tools"
      ]
    },
    {
      "cell_type": "markdown",
      "metadata": {
        "id": "EoRP98MpR-qj"
      },
      "source": [
        "## Importing the libraries\n",
        "* numpy : works with arrays\n",
        "* matplotlib : for graphs\n",
        "* pandas : import and create matrix and vector for dataset\n"
      ]
    },
    {
      "cell_type": "code",
      "metadata": {
        "id": "IgHxA5E5twVk"
      },
      "source": [
        "import numpy as np\n",
        "import matplotlib.pyplot as plt # with \".\" we access the particular module pyplot\n",
        "import pandas as pd"
      ],
      "execution_count": 2,
      "outputs": []
    },
    {
      "cell_type": "markdown",
      "metadata": {
        "id": "RopL7tUZSQkT"
      },
      "source": [
        "## Importing the dataset\n",
        "For Machine Learning always, segregate your dataset into features and the dependent variables.\n",
        "\n",
        "- import dataset\n",
        "- make the respective entities of features and independent variables"
      ]
    },
    {
      "cell_type": "code",
      "metadata": {
        "id": "Zbz_DXzGu1By"
      },
      "source": [
        "url = 'https://raw.githubusercontent.com/AfrinDange/MachineLearningInPython/main/data_preprocessing/Data.csv'\n",
        "dataset = pd.read_csv(url)   # creates a dataframe\n",
        "\n",
        "# features\n",
        "x = dataset.iloc[:, :-1].values   # iloc locates the indices provided\n",
        "                                  # \":\" all rows considered\n",
        "# dependent variable                        \n",
        "y = dataset.iloc[:, -1].values\n"
      ],
      "execution_count": 9,
      "outputs": []
    },
    {
      "cell_type": "markdown",
      "metadata": {
        "id": "nhfKXNxlSabC"
      },
      "source": [
        "## Taking care of missing data"
      ]
    },
    {
      "cell_type": "markdown",
      "metadata": {
        "id": "CriG6VzVSjcK"
      },
      "source": [
        "## Encoding categorical data"
      ]
    },
    {
      "cell_type": "markdown",
      "metadata": {
        "id": "AhSpdQWeSsFh"
      },
      "source": [
        "### Encoding the Independent Variable"
      ]
    },
    {
      "cell_type": "markdown",
      "metadata": {
        "id": "qb_vcgm3qZKW"
      },
      "source": [
        "## Splitting the dataset into the Training set and Test set"
      ]
    },
    {
      "cell_type": "markdown",
      "metadata": {
        "id": "TpGqbS4TqkIR"
      },
      "source": [
        "## Feature Scaling"
      ]
    }
  ]
}