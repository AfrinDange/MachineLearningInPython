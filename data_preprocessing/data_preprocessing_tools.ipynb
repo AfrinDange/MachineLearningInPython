{
  "nbformat": 4,
  "nbformat_minor": 0,
  "metadata": {
    "colab": {
      "name": "data_preprocessing_tools.ipynb",
      "provenance": [],
      "collapsed_sections": [],
      "include_colab_link": true
    },
    "kernelspec": {
      "name": "python3",
      "display_name": "Python 3"
    }
  },
  "cells": [
    {
      "cell_type": "markdown",
      "metadata": {
        "id": "view-in-github",
        "colab_type": "text"
      },
      "source": [
        "<a href=\"https://colab.research.google.com/github/AfrinDange/MachineLearningInPython/blob/main/data_preprocessing/data_preprocessing_tools.ipynb\" target=\"_parent\"><img src=\"https://colab.research.google.com/assets/colab-badge.svg\" alt=\"Open In Colab\"/></a>"
      ]
    },
    {
      "cell_type": "markdown",
      "metadata": {
        "id": "37puETfgRzzg"
      },
      "source": [
        "# Data Preprocessing Tools"
      ]
    },
    {
      "cell_type": "markdown",
      "metadata": {
        "id": "EoRP98MpR-qj"
      },
      "source": [
        "## Importing the libraries\n",
        "* numpy : works with arrays\n",
        "* matplotlib : for graphs\n",
        "* pandas : import and create matrix and vector for dataset\n"
      ]
    },
    {
      "cell_type": "code",
      "metadata": {
        "id": "IgHxA5E5twVk"
      },
      "source": [
        "import numpy as np\n",
        "import matplotlib.pyplot as plt # with \".\" we access the particular module pyplot\n",
        "import pandas as pd"
      ],
      "execution_count": 2,
      "outputs": []
    },
    {
      "cell_type": "markdown",
      "metadata": {
        "id": "RopL7tUZSQkT"
      },
      "source": [
        "## Importing the dataset\n",
        "For Machine Learning always, segregate your dataset into features and the dependent variables.\n",
        "\n",
        "- import dataset\n",
        "- make the respective entities of features and independent variables"
      ]
    },
    {
      "cell_type": "code",
      "metadata": {
        "id": "Zbz_DXzGu1By"
      },
      "source": [
        "url = 'https://raw.githubusercontent.com/AfrinDange/MachineLearningInPython/main/data_preprocessing/Data.csv'\n",
        "dataset = pd.read_csv(url)   # creates a dataframe\n",
        "\n",
        "# features\n",
        "x = dataset.iloc[:, :-1].values   # iloc locates the indices provided\n",
        "                                  # \":\" all rows considered\n",
        "# dependent variable                        \n",
        "y = dataset.iloc[:, -1].values"
      ],
      "execution_count": 3,
      "outputs": []
    },
    {
      "cell_type": "code",
      "metadata": {
        "id": "zDLERWNS1OtR",
        "outputId": "53ed82a4-224b-49db-9b9d-257c8ed07331",
        "colab": {
          "base_uri": "https://localhost:8080/"
        }
      },
      "source": [
        "print(x)"
      ],
      "execution_count": 4,
      "outputs": [
        {
          "output_type": "stream",
          "text": [
            "[['France' 44.0 72000.0]\n",
            " ['Spain' 27.0 48000.0]\n",
            " ['Germany' 30.0 54000.0]\n",
            " ['Spain' 38.0 61000.0]\n",
            " ['Germany' 40.0 nan]\n",
            " ['France' 35.0 58000.0]\n",
            " ['Spain' nan 52000.0]\n",
            " ['France' 48.0 79000.0]\n",
            " ['Germany' 50.0 83000.0]\n",
            " ['France' 37.0 67000.0]]\n"
          ],
          "name": "stdout"
        }
      ]
    },
    {
      "cell_type": "code",
      "metadata": {
        "id": "IhBSA-Ia1StK",
        "outputId": "38c476fa-a41a-4903-f24d-37f2bac3b6a3",
        "colab": {
          "base_uri": "https://localhost:8080/"
        }
      },
      "source": [
        "print(y)"
      ],
      "execution_count": 5,
      "outputs": [
        {
          "output_type": "stream",
          "text": [
            "['No' 'Yes' 'No' 'No' 'Yes' 'Yes' 'No' 'Yes' 'No' 'Yes']\n"
          ],
          "name": "stdout"
        }
      ]
    },
    {
      "cell_type": "markdown",
      "metadata": {
        "id": "nhfKXNxlSabC"
      },
      "source": [
        "## Taking care of missing data\n",
        "Ways to do:\n",
        "1. Delete the whole observation\n",
        "2. Replace the missing value with average of all obserations made for that variable (mean, median or mode)\n",
        "\n",
        "Scikit-learn library is  used to handle missing data"
      ]
    },
    {
      "cell_type": "code",
      "metadata": {
        "id": "Ditd2j89VtQV"
      },
      "source": [
        "from sklearn.impute import SimpleImputer\n",
        "\n",
        "imputer = SimpleImputer(missing_values=np.nan, strategy='mean')\n",
        "imputer.fit(x[:,1:3])   # Include all numerical columns only\n",
        "                        # connects impute to our feature matrix\n",
        "x[:,1:3] = imputer.transform(x[:,1:3])   # updates all missing values"
      ],
      "execution_count": 6,
      "outputs": []
    },
    {
      "cell_type": "code",
      "metadata": {
        "id": "IYcLSZiLXuo5",
        "outputId": "048661fe-6375-4012-dd8b-dae3d5e85596",
        "colab": {
          "base_uri": "https://localhost:8080/"
        }
      },
      "source": [
        "print(x)"
      ],
      "execution_count": 7,
      "outputs": [
        {
          "output_type": "stream",
          "text": [
            "[['France' 44.0 72000.0]\n",
            " ['Spain' 27.0 48000.0]\n",
            " ['Germany' 30.0 54000.0]\n",
            " ['Spain' 38.0 61000.0]\n",
            " ['Germany' 40.0 63777.77777777778]\n",
            " ['France' 35.0 58000.0]\n",
            " ['Spain' 38.77777777777778 52000.0]\n",
            " ['France' 48.0 79000.0]\n",
            " ['Germany' 50.0 83000.0]\n",
            " ['France' 37.0 67000.0]]\n"
          ],
          "name": "stdout"
        }
      ]
    },
    {
      "cell_type": "markdown",
      "metadata": {
        "id": "CriG6VzVSjcK"
      },
      "source": [
        "## Encoding categorical data\n",
        "Encoding categorical data as 0,1,2 . . . may lead to misinterpretation of data by the model. Therefore, we replace the categorical data column to n columns (n is the number of categories) and create a binary vector 0,1 to denote if the observation belongs to the category or not.\n",
        "\n",
        "This is called as one hot encoding.\n",
        "\n",
        "**NOTE:** The columns created here are known as dummy variables"
      ]
    },
    {
      "cell_type": "code",
      "metadata": {
        "id": "VQeo7JWqZFYa"
      },
      "source": [
        "from sklearn.compose import ColumnTransformer\n",
        "from sklearn.preprocessing import OneHotEncoder\n",
        "\n",
        "ct = ColumnTransformer(transformers=[('encoder', OneHotEncoder(), [0])], remainder='passthrough')\n",
        "x = np.array(ct.fit_transform(x))   # Convert the output to numpy array  "
      ],
      "execution_count": 8,
      "outputs": []
    },
    {
      "cell_type": "code",
      "metadata": {
        "id": "DnNbG_SjaisZ",
        "outputId": "075fc567-7e07-4b90-d1e8-ffc4719ac573",
        "colab": {
          "base_uri": "https://localhost:8080/"
        }
      },
      "source": [
        "print(x)"
      ],
      "execution_count": 9,
      "outputs": [
        {
          "output_type": "stream",
          "text": [
            "[[1.0 0.0 0.0 44.0 72000.0]\n",
            " [0.0 0.0 1.0 27.0 48000.0]\n",
            " [0.0 1.0 0.0 30.0 54000.0]\n",
            " [0.0 0.0 1.0 38.0 61000.0]\n",
            " [0.0 1.0 0.0 40.0 63777.77777777778]\n",
            " [1.0 0.0 0.0 35.0 58000.0]\n",
            " [0.0 0.0 1.0 38.77777777777778 52000.0]\n",
            " [1.0 0.0 0.0 48.0 79000.0]\n",
            " [0.0 1.0 0.0 50.0 83000.0]\n",
            " [1.0 0.0 0.0 37.0 67000.0]]\n"
          ],
          "name": "stdout"
        }
      ]
    },
    {
      "cell_type": "markdown",
      "metadata": {
        "id": "AhSpdQWeSsFh"
      },
      "source": [
        "### Encoding the Independent Variable"
      ]
    },
    {
      "cell_type": "code",
      "metadata": {
        "id": "1T8J4fm8a5lJ"
      },
      "source": [
        "from sklearn.preprocessing import LabelEncoder\n",
        "\n",
        "le = LabelEncoder()\n",
        "y = le.fit_transform(y) # independent variable does not have to be a numpy array"
      ],
      "execution_count": 11,
      "outputs": []
    },
    {
      "cell_type": "code",
      "metadata": {
        "id": "7kAHgbcFbVQV",
        "outputId": "fe9e0aa2-96c3-41d5-84c4-bcf3520ec642",
        "colab": {
          "base_uri": "https://localhost:8080/"
        }
      },
      "source": [
        "print(y)"
      ],
      "execution_count": 12,
      "outputs": [
        {
          "output_type": "stream",
          "text": [
            "[0 1 0 0 1 1 0 1 0 1]\n"
          ],
          "name": "stdout"
        }
      ]
    },
    {
      "cell_type": "markdown",
      "metadata": {
        "id": "qb_vcgm3qZKW"
      },
      "source": [
        "## Splitting the dataset into the Training set and Test set\n",
        "* Training set: to train the model\n",
        "* Test set: to evaluate the model\n",
        "\n"
      ]
    },
    {
      "cell_type": "code",
      "metadata": {
        "id": "I2DoIATxoiVb"
      },
      "source": [
        "from sklearn.model_selection import train_test_split\n",
        "x_train, x_test, y_train, y_test = train_test_split(x, y, test_size=0.2, random_state=1)    # random_state sets the seed"
      ],
      "execution_count": 13,
      "outputs": []
    },
    {
      "cell_type": "code",
      "metadata": {
        "id": "BInzYp__p-rV",
        "outputId": "159355ab-69b3-47a2-fb4a-e06a5e443cd4",
        "colab": {
          "base_uri": "https://localhost:8080/"
        }
      },
      "source": [
        "print(x_train)"
      ],
      "execution_count": 14,
      "outputs": [
        {
          "output_type": "stream",
          "text": [
            "[[0.0 0.0 1.0 38.77777777777778 52000.0]\n",
            " [0.0 1.0 0.0 40.0 63777.77777777778]\n",
            " [1.0 0.0 0.0 44.0 72000.0]\n",
            " [0.0 0.0 1.0 38.0 61000.0]\n",
            " [0.0 0.0 1.0 27.0 48000.0]\n",
            " [1.0 0.0 0.0 48.0 79000.0]\n",
            " [0.0 1.0 0.0 50.0 83000.0]\n",
            " [1.0 0.0 0.0 35.0 58000.0]]\n"
          ],
          "name": "stdout"
        }
      ]
    },
    {
      "cell_type": "code",
      "metadata": {
        "id": "aZGaoJxdqH3E",
        "outputId": "a642c350-3e74-4e62-eb49-623bb95f9ae6",
        "colab": {
          "base_uri": "https://localhost:8080/"
        }
      },
      "source": [
        "print(x_test)"
      ],
      "execution_count": 15,
      "outputs": [
        {
          "output_type": "stream",
          "text": [
            "[[0.0 1.0 0.0 30.0 54000.0]\n",
            " [1.0 0.0 0.0 37.0 67000.0]]\n"
          ],
          "name": "stdout"
        }
      ]
    },
    {
      "cell_type": "code",
      "metadata": {
        "id": "wXieK1pJqIB3",
        "outputId": "dec39f5d-c346-414d-a80b-49a1c52a40ec",
        "colab": {
          "base_uri": "https://localhost:8080/"
        }
      },
      "source": [
        "print(y_train)"
      ],
      "execution_count": 16,
      "outputs": [
        {
          "output_type": "stream",
          "text": [
            "[0 1 0 0 1 1 0 1]\n"
          ],
          "name": "stdout"
        }
      ]
    },
    {
      "cell_type": "code",
      "metadata": {
        "id": "8f6xXnQ6qIKk",
        "outputId": "1523d6d4-597e-4735-aa61-f62f37f85722",
        "colab": {
          "base_uri": "https://localhost:8080/"
        }
      },
      "source": [
        "print(y_test)"
      ],
      "execution_count": 17,
      "outputs": [
        {
          "output_type": "stream",
          "text": [
            "[0 1]\n"
          ],
          "name": "stdout"
        }
      ]
    },
    {
      "cell_type": "markdown",
      "metadata": {
        "id": "TpGqbS4TqkIR"
      },
      "source": [
        "## Feature Scaling\n",
        "* It is done to avoid the domination of certain features over others.\n",
        "* It is applied only for certain machine learning models.\n",
        "* It is not applied on dummy variables. [cateogorical data]\n",
        "* **The correct way of using feature scaling is to apply it after dividing the dataset into test and train.**\n",
        "\n",
        "\n",
        "There are two ways to apply feature scaling:\n",
        "\n",
        "![Screenshot 2020-11-14 222600.png](data:image/png;base64,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)\n",
        "\n",
        "Standardisation: \n",
        "* When applied, all values will be converted to a value in range of -3 to +3\n",
        "* Recommended for any type of features\n",
        "\n",
        "Normalization:\n",
        "* When applied, all values will be converted to a value in range of 0 to +1\n",
        "* Recommended when features follow normal distribution\n",
        "\n",
        "When performing scaling, the parameters (mean and standard deviation) are calculated for training set only, and then the formula is applied on training set. Using the same (previously calculated parameters from the training set) parameters, we apply feature scaling on the test set.\n"
      ]
    },
    {
      "cell_type": "code",
      "metadata": {
        "id": "TZiPXA9-rSHM"
      },
      "source": [
        "from sklearn.preprocessing import StandardScaler\n",
        "\n",
        "sc = StandardScaler()\n",
        "x_train[:,3:] = sc.fit_transform(x_train[:,3:]) #fit scales and transform changes the values\n",
        "x_test[:,3:] = sc.transform(x_test[:,3:]) # use the same object so that the scaler values don't change"
      ],
      "execution_count": 18,
      "outputs": []
    },
    {
      "cell_type": "code",
      "metadata": {
        "id": "krwl8rp8xWSj",
        "outputId": "53781d48-946c-4b8c-ca77-0fd1f9014375",
        "colab": {
          "base_uri": "https://localhost:8080/"
        }
      },
      "source": [
        "print(x_train)"
      ],
      "execution_count": 19,
      "outputs": [
        {
          "output_type": "stream",
          "text": [
            "[[0.0 0.0 1.0 -0.19159184384578545 -1.0781259408412425]\n",
            " [0.0 1.0 0.0 -0.014117293757057777 -0.07013167641635372]\n",
            " [1.0 0.0 0.0 0.566708506533324 0.633562432710455]\n",
            " [0.0 0.0 1.0 -0.30453019390224867 -0.30786617274297867]\n",
            " [0.0 0.0 1.0 -1.9018011447007988 -1.420463615551582]\n",
            " [1.0 0.0 0.0 1.1475343068237058 1.232653363453549]\n",
            " [0.0 1.0 0.0 1.4379472069688968 1.5749910381638885]\n",
            " [1.0 0.0 0.0 -0.7401495441200351 -0.5646194287757332]]\n"
          ],
          "name": "stdout"
        }
      ]
    },
    {
      "cell_type": "code",
      "metadata": {
        "id": "FmsZdyXbxYob",
        "outputId": "b389e4d2-9b00-4d1b-d47d-2040269cf18e",
        "colab": {
          "base_uri": "https://localhost:8080/"
        }
      },
      "source": [
        "print(x_test)"
      ],
      "execution_count": 20,
      "outputs": [
        {
          "output_type": "stream",
          "text": [
            "[[0.0 1.0 0.0 -1.4661817944830124 -0.9069571034860727]\n",
            " [1.0 0.0 0.0 -0.44973664397484414 0.2056403393225306]]\n"
          ],
          "name": "stdout"
        }
      ]
    }
  ]
}